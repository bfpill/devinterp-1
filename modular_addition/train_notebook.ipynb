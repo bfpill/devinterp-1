{
 "cells": [
  {
   "cell_type": "code",
   "execution_count": 1,
   "metadata": {},
   "outputs": [
    {
     "name": "stdout",
     "output_type": "stream",
     "text": [
      "models/params_P62_exceptions=True_num_exceptions=20_a=31_b=2.json\n",
      "Number of parameters: 18368\n",
      "\n",
      "            Using exceptions: True.\n",
      "            Number of Exceptions: 80,\n",
      "            Number normal: 3764\n",
      "           \n",
      "First indices of shuffled dataset [878, 438, 1067, 3052, 739, 3122, 603, 25, 3096, 2459]\n",
      "The train set covers 20 rands out of 20 total (100.0%)\n",
      "The test set covers 11 rands out of 20 total (55.00000000000001%)\n",
      "[(16, 4), (8, 30), (15, 11), (25, 19), (18, 28), (27, 12), (9, 4), (13, 1), (29, 6), (8, 29), (16, 15), (24, 28), (28, 4), (9, 3), (12, 29), (17, 22), (24, 3), (19, 25), (9, 30), (25, 26)] {(16, 4), (8, 30), (15, 11), (25, 19), (18, 28), (27, 12), (9, 4), (13, 1), (29, 6), (8, 29), (16, 15), (24, 28), (28, 4), (9, 3), (12, 29), (17, 22), (24, 3), (19, 25), (9, 30), (25, 26)}\n",
      "[(16, 4), (8, 30), (15, 11), (25, 19), (18, 28), (27, 12), (9, 4), (13, 1), (29, 6), (8, 29), (16, 15), (24, 28), (28, 4), (9, 3), (12, 29), (17, 22), (24, 3), (19, 25), (9, 30), (25, 26)] {(25, 26), (15, 11), (9, 3), (16, 4), (12, 29), (29, 6), (19, 25), (18, 28), (24, 28), (9, 30), (27, 12)}\n",
      "Training Data [((tensor(14), tensor(10)), tensor(24)), ((tensor(7), tensor(4)), tensor(11)), ((tensor(17), tensor(13)), tensor(30)), ((tensor(49), tensor(14)), tensor(1)), ((tensor(11), tensor(57)), tensor(6)), ((tensor(50), tensor(22)), tensor(10)), ((tensor(9), tensor(45)), tensor(54)), ((tensor(0), tensor(25)), tensor(25)), ((tensor(49), tensor(58)), tensor(45)), ((tensor(39), tensor(41)), tensor(18))] [((tensor(2), tensor(58)), tensor(60)), ((tensor(4), tensor(60)), tensor(2)), ((tensor(41), tensor(46)), tensor(25)), ((tensor(23), tensor(34)), tensor(57)), ((tensor(30), tensor(5)), tensor(35)), ((tensor(55), tensor(27)), tensor(20)), ((tensor(24), tensor(33)), tensor(57)), ((tensor(29), tensor(22)), tensor(51)), ((tensor(25), tensor(55)), tensor(18)), ((tensor(2), tensor(32)), tensor(34))]\n"
     ]
    },
    {
     "name": "stderr",
     "output_type": "stream",
     "text": [
      "  0%|          | 1/50000 [00:02<38:48:15,  2.79s/it]"
     ]
    },
    {
     "name": "stdout",
     "output_type": "stream",
     "text": [
      "Batch: 0 | Loss: 0.0 | Test Acc: 0.025198938992042442 (/754), Test Excep Acc: 0.0 (/15)\n",
      "Batch: 0 | Loss: 0.0 | Train Acc: 0.01727574750830565 (/3010) | Train Excep Acc: 0.0 (/65)\n"
     ]
    },
    {
     "name": "stderr",
     "output_type": "stream",
     "text": [
      "  5%|▍         | 2283/50000 [00:09<02:22, 335.54it/s]"
     ]
    }
   ],
   "source": [
    "from train import *\n",
    "\n",
    "if __name__ == \"__main__\":\n",
    "    a = 31 # should be larger than b\n",
    "    b = 2\n",
    "    p_values = [a*b]\n",
    "    num_rands = 20\n",
    "\n",
    "\n",
    "    # we expect num in a single exceptional group to be b^2, and therefore num_exceptions * b^2 total exceptions\n",
    "    \n",
    "    for use_exceps in [True, False]:\n",
    "        params = ExperimentParams(\n",
    "            linear_1_tied=False,\n",
    "            tie_unembed=False,\n",
    "            movie=True,\n",
    "            scale_linear_1_factor=1.0,\n",
    "            scale_embed=1.0,\n",
    "            use_random_dataset=False,\n",
    "            freeze_middle=False,\n",
    "            n_batches=50000,\n",
    "            n_save_model_checkpoints=20,\n",
    "            lr=0.01,\n",
    "            magnitude=False,\n",
    "            ablation_fourier=False,\n",
    "            do_viz_weights_modes=True,\n",
    "            batch_size=128,\n",
    "            num_no_weight_decay_steps=0,\n",
    "            weight_decay=0,\n",
    "            run_id=0,\n",
    "            activation=\"gelu\",\n",
    "            hidden_size=128,\n",
    "            embed_dim=32,\n",
    "            train_frac=0.8,\n",
    "            use_exceptions=use_exceps,\n",
    "            num_rands=num_rands, \n",
    "            a=a,\n",
    "            b=b\n",
    "        )\n",
    "    \n",
    "        p_sweep_exp(p_values, params, \"mod-add\")"
   ]
  },
  {
   "cell_type": "code",
   "execution_count": null,
   "metadata": {},
   "outputs": [],
   "source": []
  }
 ],
 "metadata": {
  "kernelspec": {
   "display_name": "df-stuff",
   "language": "python",
   "name": "python3"
  },
  "language_info": {
   "codemirror_mode": {
    "name": "ipython",
    "version": 3
   },
   "file_extension": ".py",
   "mimetype": "text/x-python",
   "name": "python",
   "nbconvert_exporter": "python",
   "pygments_lexer": "ipython3",
   "version": "3.11.11"
  }
 },
 "nbformat": 4,
 "nbformat_minor": 2
}
